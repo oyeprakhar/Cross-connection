{
  "nbformat": 4,
  "nbformat_minor": 0,
  "metadata": {
    "colab": {
      "provenance": []
    },
    "kernelspec": {
      "name": "python3",
      "display_name": "Python 3"
    },
    "language_info": {
      "name": "python"
    }
  },
  "cells": [
    {
      "cell_type": "code",
      "execution_count": 6,
      "metadata": {
        "id": "f_28A27quy9a"
      },
      "outputs": [],
      "source": [
        "import numpy as np\n",
        "from submit import my_map\n",
        "from submit import my_fit\n",
        "import time as tm"
      ]
    },
    {
      "cell_type": "code",
      "source": [
        "Z_trn = np.loadtxt( \"/content/secret_trn.txt\" )\n",
        "Z_tst = np.loadtxt( \"/content/secret_tst.txt\" )\n",
        "\n",
        "n_trials = 5\n",
        "\n",
        "d_size = 0\n",
        "t_train = 0\n",
        "t_map = 0\n",
        "acc0 = 0\n",
        "acc1 = 0"
      ],
      "metadata": {
        "id": "UuVf30bLu5UM"
      },
      "execution_count": 7,
      "outputs": []
    },
    {
      "cell_type": "code",
      "source": [
        "for t in range( n_trials ):\n",
        "    tic = tm.perf_counter()\n",
        "    w0, b0, w1, b1 = my_fit( Z_trn[:, :-2], Z_trn[:,-2], Z_trn[:,-1] )\n",
        "    toc = tm.perf_counter() # Fixed indentation here\n",
        "\n",
        "    t_train += toc - tic\n",
        "    w0 = w0.reshape( -1 )\n",
        "    w1 = w1.reshape( -1 )\n",
        "\n",
        "    d_size += max( w0.shape[0], w1.shape[0] )\n",
        "\n",
        "    tic = tm.perf_counter()\n",
        "    feat = my_map( Z_tst[:, :-2] )\n",
        "    toc = tm.perf_counter()\n",
        "    t_map += toc - tic\n",
        "\n",
        "    scores0 = feat.dot( w0 ) + b0\n",
        "    scores1 = feat.dot( w1 ) + b1\n",
        "\n",
        "    pred0 = np.zeros_like( scores0 )\n",
        "    pred0[ scores0 > 0 ] = 1\n",
        "    pred1 = np.zeros_like( scores1 )\n",
        "    pred1[ scores1 > 0 ] = 1\n",
        "\n",
        "    acc0 += np.average( Z_tst[ :, -2 ] == pred0 )\n",
        "    acc1 += np.average( Z_tst[ :, -1 ] == pred1 )"
      ],
      "metadata": {
        "id": "ZwZjs84Qu9JB"
      },
      "execution_count": 8,
      "outputs": []
    },
    {
      "cell_type": "code",
      "source": [
        "d_size /= n_trials\n",
        "t_train /= n_trials\n",
        "t_map /= n_trials\n",
        "acc0 /= n_trials\n",
        "acc1 /= n_trials"
      ],
      "metadata": {
        "id": "ZVME7vsvwf5a"
      },
      "execution_count": 9,
      "outputs": []
    },
    {
      "cell_type": "code",
      "source": [
        "print( f\"{d_size},{t_train},{t_map},{1 - acc0},{1 - acc1}\" )"
      ],
      "metadata": {
        "id": "uimnuV7NwjlY",
        "outputId": "85375bb8-8347-4da4-b13e-2ec55cb94409",
        "colab": {
          "base_uri": "https://localhost:8080/"
        }
      },
      "execution_count": 10,
      "outputs": [
        {
          "output_type": "stream",
          "name": "stdout",
          "text": [
            "63.0,1.011630268800036,0.00738628580020304,0.01990000000000003,0.0004999999999999449\n"
          ]
        }
      ]
    }
  ]
}